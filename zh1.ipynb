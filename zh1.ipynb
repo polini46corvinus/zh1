{
    "metadata": {
        "kernelspec": {
            "name": "SQL",
            "display_name": "SQL",
            "language": "sql"
        },
        "language_info": {
            "name": "sql",
            "version": ""
        }
    },
    "nbformat_minor": 2,
    "nbformat": 4,
    "cells": [
        {
            "cell_type": "code",
            "source": [
                "--"
            ],
            "metadata": {
                "azdata_cell_guid": "e6ea3088-f31a-4bae-af37-ca40a59e9304",
                "language": "sql"
            },
            "outputs": [],
            "execution_count": null
        }
    ]
}