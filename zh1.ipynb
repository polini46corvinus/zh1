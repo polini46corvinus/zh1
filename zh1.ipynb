{
    "metadata": {
        "kernelspec": {
            "name": "SQL",
            "display_name": "SQL",
            "language": "sql"
        },
        "language_info": {
            "name": "sql",
            "version": ""
        }
    },
    "nbformat_minor": 2,
    "nbformat": 4,
    "cells": [
        {
            "cell_type": "code",
            "source": [
                "-- 1. feladat\r\n",
                "\r\n",
                "select nev, email\r\n",
                "from VENDEG\r\n",
                "where year(szul_dat)=1990 and month(szul_dat) between 7 and 12\r\n",
                "order by month(szul_dat)"
            ],
            "metadata": {
                "azdata_cell_guid": "e6ea3088-f31a-4bae-af37-ca40a59e9304",
                "language": "sql"
            },
            "outputs": [],
            "execution_count": null
        },
        {
            "cell_type": "code",
            "source": [
                "-- 2. feladat\r\n",
                "\r\n",
                "select  tipus as 'Típus',\r\n",
                "        round(avg(CSILLAGOK_SZAMA),0) as 'Csillagok száma'\r\n",
                "from szallashely\r\n",
                "group by tipus\r\n",
                "having tipus <> 'panzió' and round(avg(CSILLAGOK_SZAMA),0) >= 3"
            ],
            "metadata": {
                "azdata_cell_guid": "045197c0-8bdc-47f2-a82b-56ca38cb2abd",
                "language": "sql",
                "tags": []
            },
            "outputs": [
                {
                    "output_type": "display_data",
                    "data": {
                        "text/html": "(5 rows affected)"
                    },
                    "metadata": {}
                },
                {
                    "output_type": "display_data",
                    "data": {
                        "text/html": "Total execution time: 00:00:00.006"
                    },
                    "metadata": {}
                },
                {
                    "output_type": "execute_result",
                    "metadata": {},
                    "execution_count": 23,
                    "data": {
                        "application/vnd.dataresource+json": {
                            "schema": {
                                "fields": [
                                    {
                                        "name": "Típus"
                                    },
                                    {
                                        "name": "Csillagok száma"
                                    }
                                ]
                            },
                            "data": [
                                {
                                    "Típus": "Apartman",
                                    "Csillagok száma": "0"
                                },
                                {
                                    "Típus": "Diákszálló",
                                    "Csillagok száma": "0"
                                },
                                {
                                    "Típus": "Hotel",
                                    "Csillagok száma": "3"
                                },
                                {
                                    "Típus": "panzió",
                                    "Csillagok száma": "3"
                                },
                                {
                                    "Típus": "vendégház",
                                    "Csillagok száma": "0"
                                }
                            ]
                        },
                        "text/html": [
                            "<table>",
                            "<tr><th>Típus</th><th>Csillagok száma</th></tr>",
                            "<tr><td>Apartman</td><td>0</td></tr>",
                            "<tr><td>Diákszálló</td><td>0</td></tr>",
                            "<tr><td>Hotel</td><td>3</td></tr>",
                            "<tr><td>panzió</td><td>3</td></tr>",
                            "<tr><td>vendégház</td><td>0</td></tr>",
                            "</table>"
                        ]
                    }
                }
            ],
            "execution_count": 23
        },
        {
            "cell_type": "code",
            "source": [
                "-- 3. feladat\r\n",
                "\r\n",
                "select  szoba.SZOBA_ID as 'Szoba azonosítója',\r\n",
                "        year(Foglalas.mettol) as 'Év',\r\n",
                "        count(FOGLALAS_PK) as 'Foglalások száma'\r\n",
                "from Szoba\r\n",
                "join foglalas on szoba.SZOBA_ID = foglalas.SZOBA_FK\r\n",
                "where szoba.szoba_szama%2=1\r\n",
                "group by szoba.SZOBA_ID, year(foglalas.mettol)\r\n",
                "having count(FOGLALAS_PK) > 10"
            ],
            "metadata": {
                "language": "sql",
                "azdata_cell_guid": "255f9cfa-a289-4eb7-b2cb-438eb90027e3"
            },
            "outputs": [
                {
                    "output_type": "display_data",
                    "data": {
                        "text/html": "(1 row affected)"
                    },
                    "metadata": {}
                },
                {
                    "output_type": "display_data",
                    "data": {
                        "text/html": "Total execution time: 00:00:00.016"
                    },
                    "metadata": {}
                },
                {
                    "output_type": "execute_result",
                    "metadata": {},
                    "execution_count": 54,
                    "data": {
                        "application/vnd.dataresource+json": {
                            "schema": {
                                "fields": [
                                    {
                                        "name": "Szoba azonosítója"
                                    },
                                    {
                                        "name": "Év"
                                    },
                                    {
                                        "name": "Foglalások száma"
                                    }
                                ]
                            },
                            "data": [
                                {
                                    "Szoba azonosítója": "58",
                                    "Év": "2016",
                                    "Foglalások száma": "12"
                                }
                            ]
                        },
                        "text/html": [
                            "<table>",
                            "<tr><th>Szoba azonosítója</th><th>Év</th><th>Foglalások száma</th></tr>",
                            "<tr><td>58</td><td>2016</td><td>12</td></tr>",
                            "</table>"
                        ]
                    }
                }
            ],
            "execution_count": 54
        }
    ]
}